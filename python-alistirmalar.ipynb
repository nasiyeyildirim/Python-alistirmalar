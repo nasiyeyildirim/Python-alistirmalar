{
 "cells": [
  {
   "cell_type": "markdown",
   "id": "ca7c900e",
   "metadata": {
    "_cell_guid": "b1076dfc-b9ad-4769-8c92-a6c4dae69d19",
    "_uuid": "8f2839f25d086af736a60e9eeb907d3b93b6e0e5",
    "papermill": {
     "duration": 0.005235,
     "end_time": "2022-11-24T17:59:56.075534",
     "exception": false,
     "start_time": "2022-11-24T17:59:56.070299",
     "status": "completed"
    },
    "tags": []
   },
   "source": [
    "# Python Alıştırmalar"
   ]
  },
  {
   "cell_type": "markdown",
   "id": "04203419",
   "metadata": {
    "papermill": {
     "duration": 0.003755,
     "end_time": "2022-11-24T17:59:56.083712",
     "exception": false,
     "start_time": "2022-11-24T17:59:56.079957",
     "status": "completed"
    },
    "tags": []
   },
   "source": [
    "![](https://static.vecteezy.com/system/resources/previews/001/222/756/non_2x/woman-use-laptop-sitting-on-a-floor-with-cat-vector.jpg)"
   ]
  },
  {
   "cell_type": "code",
   "execution_count": 1,
   "id": "bbe97a52",
   "metadata": {
    "execution": {
     "iopub.execute_input": "2022-11-24T17:59:56.094789Z",
     "iopub.status.busy": "2022-11-24T17:59:56.093697Z",
     "iopub.status.idle": "2022-11-24T17:59:56.104528Z",
     "shell.execute_reply": "2022-11-24T17:59:56.103615Z"
    },
    "papermill": {
     "duration": 0.018907,
     "end_time": "2022-11-24T17:59:56.106621",
     "exception": false,
     "start_time": "2022-11-24T17:59:56.087714",
     "status": "completed"
    },
    "tags": []
   },
   "outputs": [],
   "source": [
    "# This Python 3 environment comes with many helpful analytics libraries installed\n",
    "# It is defined by the kaggle/python Docker image: https://github.com/kaggle/docker-python\n",
    "# For example, here's several helpful packages to load\n",
    "\n",
    "import numpy as np # linear algebra\n",
    "import pandas as pd # data processing, CSV file I/O (e.g. pd.read_csv)\n",
    "\n",
    "# Input data files are available in the read-only \"../input/\" directory\n",
    "# For example, running this (by clicking run or pressing Shift+Enter) will list all files under the input directory\n",
    "\n",
    "import os\n",
    "for dirname, _, filenames in os.walk('/kaggle/input'):\n",
    "    for filename in filenames:\n",
    "        print(os.path.join(dirname, filename))\n",
    "\n",
    "# You can write up to 20GB to the current directory (/kaggle/working/) that gets preserved as output when you create a version using \"Save & Run All\" \n",
    "# You can also write temporary files to /kaggle/temp/, but they won't be saved outside of the current session"
   ]
  },
  {
   "cell_type": "markdown",
   "id": "d83e48d1",
   "metadata": {
    "papermill": {
     "duration": 0.003715,
     "end_time": "2022-11-24T17:59:56.114434",
     "exception": false,
     "start_time": "2022-11-24T17:59:56.110719",
     "status": "completed"
    },
    "tags": []
   },
   "source": [
    "## GÖREV 1: Veri yapılarının tipleriniz inceleyiniz."
   ]
  },
  {
   "cell_type": "code",
   "execution_count": 2,
   "id": "a9ab9d50",
   "metadata": {
    "execution": {
     "iopub.execute_input": "2022-11-24T17:59:56.123545Z",
     "iopub.status.busy": "2022-11-24T17:59:56.123227Z",
     "iopub.status.idle": "2022-11-24T17:59:56.134680Z",
     "shell.execute_reply": "2022-11-24T17:59:56.133721Z"
    },
    "papermill": {
     "duration": 0.018855,
     "end_time": "2022-11-24T17:59:56.136993",
     "exception": false,
     "start_time": "2022-11-24T17:59:56.118138",
     "status": "completed"
    },
    "tags": []
   },
   "outputs": [
    {
     "data": {
      "text/plain": [
       "set"
      ]
     },
     "execution_count": 2,
     "metadata": {},
     "output_type": "execute_result"
    }
   ],
   "source": [
    "x = 8\n",
    "type(x)\n",
    "\n",
    "y = 3.2\n",
    "type(y)\n",
    "\n",
    "z = 8j + 18\n",
    "type(z)\n",
    "\n",
    "a = \"Hello World\"\n",
    "type(a)\n",
    "\n",
    "b = True\n",
    "type(b)\n",
    "\n",
    "c = 23 < 22\n",
    "type(c)\n",
    "\n",
    "\n",
    "l = [1, 2, 3, 4,\"String\",3.2, False]\n",
    "type(l)\n",
    "\n",
    "\n",
    "d = {\"Name\": \"Jake\",\n",
    "     \"Age\": [27,56],\n",
    "     \"Adress\": \"Downtown\"}\n",
    "type(d)\n",
    "\n",
    "\n",
    "t = (\"Machine Learning\", \"Data Science\")\n",
    "type(t)\n",
    "\n",
    "\n",
    "s = {\"Python\", \"Machine Learning\", \"Data Science\",\"Python\"}\n",
    "type(s)"
   ]
  },
  {
   "cell_type": "markdown",
   "id": "1616598a",
   "metadata": {
    "papermill": {
     "duration": 0.003933,
     "end_time": "2022-11-24T17:59:56.145183",
     "exception": false,
     "start_time": "2022-11-24T17:59:56.141250",
     "status": "completed"
    },
    "tags": []
   },
   "source": [
    "## # GÖREV 2: Verilen string ifadenin tüm harflerini büyük harfe çeviriniz. Virgül ve nokta yerine space koyunuz, kelime kelime ayırınız.\n"
   ]
  },
  {
   "cell_type": "code",
   "execution_count": 3,
   "id": "659e4d03",
   "metadata": {
    "execution": {
     "iopub.execute_input": "2022-11-24T17:59:56.155160Z",
     "iopub.status.busy": "2022-11-24T17:59:56.154403Z",
     "iopub.status.idle": "2022-11-24T17:59:56.161202Z",
     "shell.execute_reply": "2022-11-24T17:59:56.159668Z"
    },
    "papermill": {
     "duration": 0.014346,
     "end_time": "2022-11-24T17:59:56.163646",
     "exception": false,
     "start_time": "2022-11-24T17:59:56.149300",
     "status": "completed"
    },
    "tags": []
   },
   "outputs": [
    {
     "name": "stdout",
     "output_type": "stream",
     "text": [
      "['THE', 'GOAL', 'IS', 'TO', 'TURN', 'DATA', 'INTO', 'INFORMATION', 'AND', 'INFORMATION', 'INTO', 'INSIGHT']\n"
     ]
    }
   ],
   "source": [
    "text = \"The goal is to turn data into information, and information into insight.\"\n",
    "text2= str(text.upper()).replace(\",\", \" \").replace(\".\", \" \").split()\n",
    "print(text2)\n"
   ]
  },
  {
   "cell_type": "markdown",
   "id": "9791fd5e",
   "metadata": {
    "papermill": {
     "duration": 0.004175,
     "end_time": "2022-11-24T17:59:56.172112",
     "exception": false,
     "start_time": "2022-11-24T17:59:56.167937",
     "status": "completed"
    },
    "tags": []
   },
   "source": [
    "## # GÖREV 3: Verilen liste için aşağıdaki görevleri yapınız."
   ]
  },
  {
   "cell_type": "code",
   "execution_count": 4,
   "id": "c76795f9",
   "metadata": {
    "execution": {
     "iopub.execute_input": "2022-11-24T17:59:56.181758Z",
     "iopub.status.busy": "2022-11-24T17:59:56.181428Z",
     "iopub.status.idle": "2022-11-24T17:59:56.186829Z",
     "shell.execute_reply": "2022-11-24T17:59:56.185924Z"
    },
    "papermill": {
     "duration": 0.012777,
     "end_time": "2022-11-24T17:59:56.188867",
     "exception": false,
     "start_time": "2022-11-24T17:59:56.176090",
     "status": "completed"
    },
    "tags": []
   },
   "outputs": [],
   "source": [
    "lst = [\"D\",\"A\",\"T\",\"A\",\"S\",\"C\",\"I\",\"E\",\"N\",\"C\",\"E\"]\n",
    "\n",
    "# Adım 1: Verilen listenin eleman sayısına bakın.\n",
    "len(lst)\n",
    "\n",
    "# Adım 2: Sıfırıncı ve onuncu index'teki elemanları çağırın.\n",
    "lst[0]\n",
    "lst[10]\n",
    "\n",
    "\n",
    "# Adım 3: Verilen liste üzerinden [\"D\",\"A\",\"T\",\"A\"] listesi oluşturun.\n",
    "lst_1= lst[0:4]\n",
    "\n",
    "\n",
    "# Adım 4: Sekizinci index'teki elemanı silin.\n",
    "lst.pop(8)\n",
    "\n",
    "# Adım 5: Yeni bir eleman ekleyin.\n",
    "lst.append(\"N\")\n",
    "\n",
    "# Adım 6: Sekizinci index'e  \"N\" elemanını tekrar ekleyin.\n",
    "lst.insert(8,\"N\")\n"
   ]
  },
  {
   "cell_type": "markdown",
   "id": "e6d0a625",
   "metadata": {
    "papermill": {
     "duration": 0.003984,
     "end_time": "2022-11-24T17:59:56.197080",
     "exception": false,
     "start_time": "2022-11-24T17:59:56.193096",
     "status": "completed"
    },
    "tags": []
   },
   "source": [
    "## # GÖREV 4: Verilen sözlük yapısına aşağıdaki adımları uygulayınız.\n"
   ]
  },
  {
   "cell_type": "code",
   "execution_count": 5,
   "id": "ce3701d5",
   "metadata": {
    "execution": {
     "iopub.execute_input": "2022-11-24T17:59:56.206640Z",
     "iopub.status.busy": "2022-11-24T17:59:56.206324Z",
     "iopub.status.idle": "2022-11-24T17:59:56.217494Z",
     "shell.execute_reply": "2022-11-24T17:59:56.216572Z"
    },
    "papermill": {
     "duration": 0.018256,
     "end_time": "2022-11-24T17:59:56.219507",
     "exception": false,
     "start_time": "2022-11-24T17:59:56.201251",
     "status": "completed"
    },
    "tags": []
   },
   "outputs": [],
   "source": [
    "dict = {'Christian': [\"America\",18],\n",
    "        'Daisy':[\"England\",12],\n",
    "        'Antonio':[\"Spain\",22],\n",
    "        'Dante':[\"Italy\",25]}\n",
    "\n",
    "# Adım 1: Key değerlerine erişiniz.\n",
    "dict.keys()\n",
    "\n",
    "# Adım 2: Value'lara erişiniz.\n",
    "dict.values()\n",
    "\n",
    "# Adım 3: Daisy key'ine ait 12 değerini 13 olarak güncelleyiniz.\n",
    "dict[\"Daisy\"] = [\"England\", 13]\n",
    "\n",
    "\n",
    "# Adım 4: Key değeri Ahmet value değeri [Turkey,24] olan yeni bir değer ekleyiniz.\n",
    "dict[\"Ahmet\"] = [\"Turkey\", 24]\n",
    "\n",
    "# Adım 5: Antonio'yu dictionary'den siliniz.\n",
    "del dict[\"Antonio\"]"
   ]
  },
  {
   "cell_type": "markdown",
   "id": "4648000e",
   "metadata": {
    "papermill": {
     "duration": 0.003906,
     "end_time": "2022-11-24T17:59:56.227626",
     "exception": false,
     "start_time": "2022-11-24T17:59:56.223720",
     "status": "completed"
    },
    "tags": []
   },
   "source": [
    "## # GÖREV 5: Arguman olarak bir liste alan, listenin içerisindeki tek ve çift sayıları ayrı listelere atıyan ve bu listeleri return eden fonksiyon yazınız.\n"
   ]
  },
  {
   "cell_type": "code",
   "execution_count": 6,
   "id": "8bf191d2",
   "metadata": {
    "execution": {
     "iopub.execute_input": "2022-11-24T17:59:56.237851Z",
     "iopub.status.busy": "2022-11-24T17:59:56.237545Z",
     "iopub.status.idle": "2022-11-24T17:59:56.244103Z",
     "shell.execute_reply": "2022-11-24T17:59:56.242884Z"
    },
    "papermill": {
     "duration": 0.014146,
     "end_time": "2022-11-24T17:59:56.246053",
     "exception": false,
     "start_time": "2022-11-24T17:59:56.231907",
     "status": "completed"
    },
    "tags": []
   },
   "outputs": [
    {
     "name": "stdout",
     "output_type": "stream",
     "text": [
      "[2, 18, 22] [13, 93]\n"
     ]
    }
   ],
   "source": [
    "l = [2,13,18,93,22]\n",
    "\n",
    "def func(list):\n",
    "    even_list = []\n",
    "    odd_list = []\n",
    "    \n",
    "    for i in list:\n",
    "        if i % 2 == 0:\n",
    "            even_list.append(i)\n",
    "        else:\n",
    "            odd_list.append(i)\n",
    "            \n",
    "    return even_list, odd_list\n",
    "\n",
    "even, odd = func(l)\n",
    "\n",
    "print(even, odd)"
   ]
  },
  {
   "cell_type": "markdown",
   "id": "4e05bbb2",
   "metadata": {
    "papermill": {
     "duration": 0.004083,
     "end_time": "2022-11-24T17:59:56.254484",
     "exception": false,
     "start_time": "2022-11-24T17:59:56.250401",
     "status": "completed"
    },
    "tags": []
   },
   "source": [
    "## GÖREV 6: Aşağıda verilen listede mühendislik ve tıp fakülterinde dereceye giren öğrencilerin isimleri bulunmaktadır.\n",
    "### Sırasıyla ilk üç öğrenci mühendislik fakültesinin başarı sırasını temsil ederken son üç öğrenci de tıp fakültesi öğrenci sırasına aittir.\n",
    "### Enumarate kullanarak öğrenci derecelerini fakülte özelinde yazdırınız."
   ]
  },
  {
   "cell_type": "code",
   "execution_count": 7,
   "id": "9864c4b0",
   "metadata": {
    "execution": {
     "iopub.execute_input": "2022-11-24T17:59:56.264822Z",
     "iopub.status.busy": "2022-11-24T17:59:56.264176Z",
     "iopub.status.idle": "2022-11-24T17:59:56.270689Z",
     "shell.execute_reply": "2022-11-24T17:59:56.269609Z"
    },
    "papermill": {
     "duration": 0.014962,
     "end_time": "2022-11-24T17:59:56.273765",
     "exception": false,
     "start_time": "2022-11-24T17:59:56.258803",
     "status": "completed"
    },
    "tags": []
   },
   "outputs": [
    {
     "name": "stdout",
     "output_type": "stream",
     "text": [
      "Mühendislik Fakültesi 1 . öğrenci: Ali\n",
      "Mühendislik Fakültesi 2 . öğrenci: Veli\n",
      "Mühendislik Fakültesi 3 . öğrenci: Ayşe\n",
      "Tıp Fakültesi 1 . öğrenci: Talat\n",
      "Tıp Fakültesi 2 . öğrenci: Zeynep\n",
      "Tıp Fakültesi 3 . öğrenci: Ece\n"
     ]
    }
   ],
   "source": [
    "ogrenciler = [\"Ali\",\"Veli\",\"Ayşe\",\"Talat\",\"Zeynep\",\"Ece\"]\n",
    "\n",
    "for index, student in enumerate(ogrenciler, 1):\n",
    "    if index <= 3:\n",
    "        print(\"Mühendislik Fakültesi\", index, \".\", \"öğrenci:\", student)\n",
    "    else:\n",
    "        print(\"Tıp Fakültesi\", index-3, \".\", \"öğrenci:\", student)"
   ]
  },
  {
   "cell_type": "markdown",
   "id": "ebaf3092",
   "metadata": {
    "papermill": {
     "duration": 0.004979,
     "end_time": "2022-11-24T17:59:56.284316",
     "exception": false,
     "start_time": "2022-11-24T17:59:56.279337",
     "status": "completed"
    },
    "tags": []
   },
   "source": [
    "## # GÖREV 7: Aşağıda 3 adet liste verilmiştir. Listelerde sırası ile bir dersin kodu, kredisi ve kontenjan bilgileri yer almaktadır. Zip kullanarak ders bilgilerini bastırınız.\n"
   ]
  },
  {
   "cell_type": "code",
   "execution_count": 8,
   "id": "b4cb2cdf",
   "metadata": {
    "execution": {
     "iopub.execute_input": "2022-11-24T17:59:56.294135Z",
     "iopub.status.busy": "2022-11-24T17:59:56.293813Z",
     "iopub.status.idle": "2022-11-24T17:59:56.300165Z",
     "shell.execute_reply": "2022-11-24T17:59:56.299074Z"
    },
    "papermill": {
     "duration": 0.014425,
     "end_time": "2022-11-24T17:59:56.302855",
     "exception": false,
     "start_time": "2022-11-24T17:59:56.288430",
     "status": "completed"
    },
    "tags": []
   },
   "outputs": [
    {
     "name": "stdout",
     "output_type": "stream",
     "text": [
      "Kredisi 3 olan CMP1005 kodlu dersin kontenjanı 30 kişidir.\n",
      "Kredisi 4 olan PSY1001 kodlu dersin kontenjanı 75 kişidir.\n",
      "Kredisi 2 olan HUK1005 kodlu dersin kontenjanı 150 kişidir.\n",
      "Kredisi 4 olan SEN2204 kodlu dersin kontenjanı 25 kişidir.\n"
     ]
    }
   ],
   "source": [
    "ders_kodu = [\"CMP1005\",\"PSY1001\",\"HUK1005\",\"SEN2204\"]\n",
    "kredi = [3,4,2,4]\n",
    "kontenjan = [30,75,150,25]\n",
    "\n",
    "list(zip(kredi, ders_kodu, kontenjan))\n",
    "\n",
    "for ders_kodu, kredi, kontenjan in zip(ders_kodu, kredi, kontenjan):\n",
    "    print(f\"Kredisi {kredi} olan {ders_kodu} kodlu dersin kontenjanı {kontenjan} kişidir.\")"
   ]
  },
  {
   "cell_type": "markdown",
   "id": "9e22d9b6",
   "metadata": {
    "papermill": {
     "duration": 0.004338,
     "end_time": "2022-11-24T17:59:56.311918",
     "exception": false,
     "start_time": "2022-11-24T17:59:56.307580",
     "status": "completed"
    },
    "tags": []
   },
   "source": [
    "## GÖREV 8: Aşağıda 2 adet set verilmiştir.\n",
    "### Sizden istenilen eğer 1. küme 2. kümeyi kapsiyor ise ortak elemanlarını eğer kapsamıyor ise 2. kümenin 1. kümeden farkını yazdıracak fonksiyonu tanımlamanız beklenmektedir."
   ]
  },
  {
   "cell_type": "code",
   "execution_count": 9,
   "id": "dfb46762",
   "metadata": {
    "execution": {
     "iopub.execute_input": "2022-11-24T17:59:56.321987Z",
     "iopub.status.busy": "2022-11-24T17:59:56.321689Z",
     "iopub.status.idle": "2022-11-24T17:59:56.327102Z",
     "shell.execute_reply": "2022-11-24T17:59:56.326244Z"
    },
    "papermill": {
     "duration": 0.013144,
     "end_time": "2022-11-24T17:59:56.329406",
     "exception": false,
     "start_time": "2022-11-24T17:59:56.316262",
     "status": "completed"
    },
    "tags": []
   },
   "outputs": [
    {
     "name": "stdout",
     "output_type": "stream",
     "text": [
      "{'qcut', 'function', 'miuul', 'lambda'}\n"
     ]
    }
   ],
   "source": [
    "kume1 = set([\"data\", \"python\"])\n",
    "kume2 = set([\"data\", \"function\", \"qcut\", \"lambda\", \"python\", \"miuul\"])\n",
    "\n",
    "if kume1.issuperset(kume2):\n",
    "    print(kume1.intersection(kume2))\n",
    "else:\n",
    "    print(kume2.difference(kume1))"
   ]
  }
 ],
 "metadata": {
  "kernelspec": {
   "display_name": "Python 3",
   "language": "python",
   "name": "python3"
  },
  "language_info": {
   "codemirror_mode": {
    "name": "ipython",
    "version": 3
   },
   "file_extension": ".py",
   "mimetype": "text/x-python",
   "name": "python",
   "nbconvert_exporter": "python",
   "pygments_lexer": "ipython3",
   "version": "3.7.12"
  },
  "papermill": {
   "default_parameters": {},
   "duration": 8.713264,
   "end_time": "2022-11-24T17:59:56.953971",
   "environment_variables": {},
   "exception": null,
   "input_path": "__notebook__.ipynb",
   "output_path": "__notebook__.ipynb",
   "parameters": {},
   "start_time": "2022-11-24T17:59:48.240707",
   "version": "2.3.4"
  }
 },
 "nbformat": 4,
 "nbformat_minor": 5
}
